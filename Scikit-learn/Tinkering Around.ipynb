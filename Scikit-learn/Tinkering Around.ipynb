{
 "cells": [
  {
   "cell_type": "code",
   "execution_count": 1,
   "id": "0f91277e",
   "metadata": {},
   "outputs": [],
   "source": [
    "import pandas as pd\n",
    "import numpy as np\n",
    "import matplotlib.pyplot as plt\n",
    "%matplotlib inline"
   ]
  },
  {
   "cell_type": "code",
   "execution_count": null,
   "id": "c46b70e7",
   "metadata": {},
   "outputs": [],
   "source": [
    "from sklearn.datasets import fetch_20newsgroups"
   ]
  },
  {
   "cell_type": "code",
   "execution_count": null,
   "id": "df5a69ca",
   "metadata": {},
   "outputs": [],
   "source": [
    "df = fetch_20newsgroups()"
   ]
  },
  {
   "cell_type": "code",
   "execution_count": null,
   "id": "71418981",
   "metadata": {},
   "outputs": [],
   "source": [
    "df"
   ]
  },
  {
   "cell_type": "code",
   "execution_count": null,
   "id": "1f2d09e7",
   "metadata": {},
   "outputs": [],
   "source": [
    "df['data']"
   ]
  },
  {
   "cell_type": "code",
   "execution_count": 5,
   "id": "71c7d0cf",
   "metadata": {},
   "outputs": [
    {
     "data": {
      "text/plain": [
       "{'number 1': 11,\n",
       " 'number 2': 10,\n",
       " 'number 3': 36,\n",
       " 'number 4': 10,\n",
       " 'number 5': 45,\n",
       " 'powerball': 16}"
      ]
     },
     "execution_count": 5,
     "metadata": {},
     "output_type": "execute_result"
    }
   ],
   "source": [
    "def buy_quick_pick():\n",
    "    import random\n",
    "    ticket = {}\n",
    "    count = 1\n",
    "    while count <= 5:\n",
    "        random_num = random.randint(1,69)\n",
    "        if random_num not in ticket.values():\n",
    "            ticket[\"number \" + str(count)] =  random.randint(1,69)\n",
    "            count += 1\n",
    "    ticket[\"powerball\"] = random.randint(1,26)\n",
    "    return ticket\n",
    "    \n",
    "buy_quick_pick()\n"
   ]
  },
  {
   "cell_type": "code",
   "execution_count": 12,
   "id": "c90329c7",
   "metadata": {},
   "outputs": [
    {
     "data": {
      "text/plain": [
       "1"
      ]
     },
     "execution_count": 12,
     "metadata": {},
     "output_type": "execute_result"
    }
   ],
   "source": [
    "import random\n",
    "random.randint(1,2)"
   ]
  },
  {
   "cell_type": "code",
   "execution_count": 13,
   "id": "457e65cb",
   "metadata": {},
   "outputs": [
    {
     "data": {
      "text/plain": [
       "{'number 1': 51,\n",
       " 'number 2': 48,\n",
       " 'number 3': 2,\n",
       " 'number 4': 40,\n",
       " 'number 5': 18,\n",
       " 'powerball': 21}"
      ]
     },
     "execution_count": 13,
     "metadata": {},
     "output_type": "execute_result"
    }
   ],
   "source": [
    "def drawing():\n",
    "    return buy_quick_pick()\n",
    "drawing()"
   ]
  },
  {
   "cell_type": "code",
   "execution_count": 8,
   "id": "3fdef1e7",
   "metadata": {},
   "outputs": [
    {
     "data": {
      "text/plain": [
       "[{'number 1': 34,\n",
       "  'number 2': 58,\n",
       "  'number 3': 26,\n",
       "  'number 4': 38,\n",
       "  'number 5': 48,\n",
       "  'powerball': 22},\n",
       " {'number 1': 60,\n",
       "  'number 2': 26,\n",
       "  'number 3': 13,\n",
       "  'number 4': 19,\n",
       "  'number 5': 55,\n",
       "  'powerball': 10},\n",
       " {'number 1': 11,\n",
       "  'number 2': 52,\n",
       "  'number 3': 41,\n",
       "  'number 4': 29,\n",
       "  'number 5': 2,\n",
       "  'powerball': 8},\n",
       " {'number 1': 33,\n",
       "  'number 2': 26,\n",
       "  'number 3': 30,\n",
       "  'number 4': 13,\n",
       "  'number 5': 31,\n",
       "  'powerball': 21},\n",
       " {'number 1': 34,\n",
       "  'number 2': 48,\n",
       "  'number 3': 1,\n",
       "  'number 4': 43,\n",
       "  'number 5': 26,\n",
       "  'powerball': 15}]"
      ]
     },
     "execution_count": 8,
     "metadata": {},
     "output_type": "execute_result"
    }
   ],
   "source": [
    "def buy_multiple_tickets(n):\n",
    "    tickets = []\n",
    "    for i in range(n):\n",
    "        tickets.append(buy_quick_pick())\n",
    "    return(tickets)\n",
    "\n",
    "buy_multiple_tickets(5)"
   ]
  },
  {
   "cell_type": "code",
   "execution_count": null,
   "id": "1397f93a",
   "metadata": {},
   "outputs": [],
   "source": [
    "ticket = buy_quick_pick()\n",
    "print(ticket.values())\n",
    "print(list(ticket.values()))"
   ]
  },
  {
   "cell_type": "code",
   "execution_count": 3,
   "id": "fe8381d7",
   "metadata": {
    "scrolled": true
   },
   "outputs": [
    {
     "ename": "NameError",
     "evalue": "name 'buy_quick_pick' is not defined",
     "output_type": "error",
     "traceback": [
      "\u001b[0;31m---------------------------------------------------------------------------\u001b[0m",
      "\u001b[0;31mNameError\u001b[0m                                 Traceback (most recent call last)",
      "Cell \u001b[0;32mIn[3], line 63\u001b[0m\n\u001b[1;32m     61\u001b[0m my40Tickets \u001b[38;5;241m=\u001b[39m []\n\u001b[1;32m     62\u001b[0m \u001b[38;5;28;01mfor\u001b[39;00m i \u001b[38;5;129;01min\u001b[39;00m \u001b[38;5;28mrange\u001b[39m(\u001b[38;5;241m20\u001b[39m):\n\u001b[0;32m---> 63\u001b[0m     my40Tickets\u001b[38;5;241m.\u001b[39mappend(\u001b[43mbuy_quick_pick\u001b[49m())\n\u001b[1;32m     65\u001b[0m winning_ticket \u001b[38;5;241m=\u001b[39m drawing()\n\u001b[1;32m     66\u001b[0m \u001b[38;5;28;01mfor\u001b[39;00m i \u001b[38;5;129;01min\u001b[39;00m \u001b[38;5;28mrange\u001b[39m(\u001b[38;5;241m20\u001b[39m):\n",
      "\u001b[0;31mNameError\u001b[0m: name 'buy_quick_pick' is not defined"
     ]
    }
   ],
   "source": [
    "def evaluate_ticket(ticket, winner):\n",
    "    matching_numbers_count = 0\n",
    "    prize = 0\n",
    "    ticket_values = [ticket[\"number \" + str(i)] for i in range(1,6)]\n",
    "    winning_values = [winner[\"number \" + str(i)] for i in range(1,6)]\n",
    "    \n",
    "    for i in range(5):\n",
    "        if ticket_values[i] in winning_values:\n",
    "            matching_numbers_count += 1\n",
    "    if ticket['powerball'] == winner['powerball']:\n",
    "        power_ball = True\n",
    "    else:\n",
    "        power_ball = False\n",
    "#     print(f\"You matched {matching_numbers_count}!\")\n",
    "#     print(f\"Matched the powerball: {power_ball}\")\n",
    "    \n",
    "    if matching_numbers_count == 5:\n",
    "        if power_ball:\n",
    "            print()\n",
    "            print(\"JACKPOT!!!\")\n",
    "            print(\"5 out of 5, with the powerball.\")\n",
    "            print(\"You win: $350,000,000.\")\n",
    "            print(\" \")\n",
    "            prize = 350_000_000\n",
    "        else:\n",
    "            print(\"5 out of 5, without the powerball.\")\n",
    "            print(\"You win: $1,000,000.\")\n",
    "            prize = 1_000_000\n",
    "    elif matching_numbers_count == 4:\n",
    "        if power_ball:\n",
    "#             print(\"4 out of 5, with the powerball.\")\n",
    "#             print(\"You win: $50,000.\")\n",
    "            prize = 50000\n",
    "        else:\n",
    "#             print(\"4 out of 5, without the powerball.\")\n",
    "#             print(\"You win: $100.\")\n",
    "            prize = 100\n",
    "    elif matching_numbers_count == 3:\n",
    "        if power_ball:\n",
    "#             print(\"3 out of 5, with the powerball.\")\n",
    "#             print(\"You win: $100.\")\n",
    "            prize = 100\n",
    "        else:\n",
    "#             print(\"3 out of 5, without the powerball.\")\n",
    "#             print(\"You win: $7.\")\n",
    "            prize = 7\n",
    "    elif matching_numbers_count == 2 and power_ball:\n",
    "#         print(\"2 out of 5, with the powerball.\")\n",
    "#         print(\"You win: 7\")\n",
    "        prize = 7\n",
    "    elif matching_numbers_count == 1 and power_ball:\n",
    "#         print(\"1 out of 5, with the powerball.\")\n",
    "#         print(\"You win: $4.\")\n",
    "        prize = 4\n",
    "    elif matching_numbers_count == 0 and power_ball:\n",
    "#         print(\"0 out of 5, with the powerball.\")\n",
    "#         print(\"You win: $4.\")\n",
    "        prize = 4\n",
    "    return prize\n",
    "\n",
    "my40Tickets = []\n",
    "for i in range(20):\n",
    "    my40Tickets.append(buy_quick_pick())\n",
    "\n",
    "winning_ticket = drawing()\n",
    "for i in range(20):\n",
    "    evaluate_ticket(my40Tickets[i], winning_ticket)\n",
    "\n",
    "\n",
    "def print_stats():\n",
    "    import os\n",
    "    os.system(\"clear\")\n",
    "    print(\" \")\n",
    "    if count % 500000 == 0:\n",
    "        print(\"500,000 trial mark\")\n",
    "    print(f\"number of trials: {count:,}\")\n",
    "    print(f\"last prize you won: {prize:,}\")\n",
    "    print(f\"number of winning tickets: {winners:,}\")\n",
    "    print(f\"total prize money: {total_prize:,}\")\n",
    "    print(f\"profit from playing: {cost:,}\")\n",
    "    print(f\"you have won the million dollar prize {million} times.\")\n",
    "    print(\" \")\n",
    "\n",
    "count = 0\n",
    "prize = 0\n",
    "winners = 0\n",
    "total_prize = 0\n",
    "cost = 0\n",
    "million = 0\n",
    "while prize < 300_000_000:\n",
    "    cost -= 2\n",
    "    prize = evaluate_ticket(buy_quick_pick(), drawing())\n",
    "    if prize > 0:\n",
    "        winners += 1\n",
    "        total_prize += prize\n",
    "        cost += prize\n",
    "    if prize == 1000000:\n",
    "        million += 1\n",
    "    count += 1\n",
    "    if count % 500_000 == 0:\n",
    "        print_stats()\n",
    "print_stats()\n",
    "\n",
    "\n",
    "\n"
   ]
  },
  {
   "cell_type": "code",
   "execution_count": 17,
   "id": "6aeb9387",
   "metadata": {},
   "outputs": [
    {
     "data": {
      "text/plain": [
       "20000000"
      ]
     },
     "execution_count": 17,
     "metadata": {},
     "output_type": "execute_result"
    }
   ],
   "source": [
    "# $40x500,000 trials 20,000,000\n",
    "40 * 500000"
   ]
  },
  {
   "cell_type": "code",
   "execution_count": null,
   "id": "770fb38d",
   "metadata": {},
   "outputs": [],
   "source": [
    "# Over all odds of winning\n",
    "# How much does it cost to play 20 tickets 500,000 times?"
   ]
  },
  {
   "cell_type": "code",
   "execution_count": null,
   "id": "e720dd3c",
   "metadata": {},
   "outputs": [],
   "source": [
    "wins = \"\"\"\n",
    "500,000 trial mark\n",
    "number of trials: 18,764,815\n",
    "last prize you won: 350,000,000\n",
    "number of winning tickets: 778,708\n",
    "total prize money: 389,320,953\n",
    "profit from playing: 351,791,323\n",
    "you have won the million dollar prize 31 times.\n",
    "\n",
    "500,000 trial mark\n",
    "number of trials: 5,195,982\n",
    "last prize you won: 350,000,000\n",
    "number of winning tickets: 215,786\n",
    "total prize money: 356,391,816\n",
    "profit from playing: 345,999,852\n",
    "you have won the million dollar prize 4 times.\n",
    "\n",
    "500,000 trial mark\n",
    "number of trials: 3,639,022\n",
    "last prize you won: 350,000,000\n",
    "number of winning tickets: 151,072\n",
    "total prize money: 360,486,986\n",
    "profit from playing: 353,208,942\n",
    "you have won the million dollar prize 9 times.\n",
    "\n",
    "500,000 trial mark\n",
    "number of trials: 23,438,467\n",
    "last prize you won: 350,000,000\n",
    "number of winning tickets: 971,765\n",
    "total prize money: 398,465,138\n",
    "profit from playing: 351,588,204\n",
    "you have won the million dollar prize 39 times.\n",
    "\"\"\""
   ]
  },
  {
   "cell_type": "code",
   "execution_count": 2,
   "id": "60b3aaa0",
   "metadata": {},
   "outputs": [
    {
     "data": {
      "text/plain": [
       "33307.58"
      ]
     },
     "execution_count": 2,
     "metadata": {},
     "output_type": "execute_result"
    }
   ],
   "source": [
    "round((5195982/3)/52, 2)"
   ]
  },
  {
   "cell_type": "code",
   "execution_count": 18,
   "id": "8b278222",
   "metadata": {},
   "outputs": [
    {
     "name": "stdout",
     "output_type": "stream",
     "text": [
      "The odds of winning the Power Ball jackpot: 1 in 292,201,338\n",
      "You would need to buy $584,402,676 worth of tickets to guar·an·tee win\n"
     ]
    }
   ],
   "source": [
    "pb_odds = int((69 * 68 * 67 * 66 * 65 * 26)/ (5 * 4 * 3 * 2))\n",
    "print(f\"The odds of winning the Power Ball jackpot: 1 in {pb_odds:,}\")\n",
    "print(f\"You would need to buy ${2*pb_odds:,} worth of tickets to guar·an·tee win\")"
   ]
  },
  {
   "cell_type": "code",
   "execution_count": 19,
   "id": "1a5f541d",
   "metadata": {},
   "outputs": [
    {
     "name": "stdout",
     "output_type": "stream",
     "text": [
      "297990875\n"
     ]
    }
   ],
   "source": [
    "mm_odds = int((70 * 69 * 68 * 67 * 65 * 25)/(5 * 4 * 3 * 2))\n",
    "print(mm_odds)"
   ]
  },
  {
   "cell_type": "code",
   "execution_count": 20,
   "id": "4ec6ae1d",
   "metadata": {},
   "outputs": [],
   "source": [
    "increase = mm_odds - pb_odds"
   ]
  },
  {
   "cell_type": "code",
   "execution_count": 21,
   "id": "1308215d",
   "metadata": {},
   "outputs": [
    {
     "name": "stdout",
     "output_type": "stream",
     "text": [
      "1.98 %\n"
     ]
    }
   ],
   "source": [
    "print( round(increase/pb_odds * 100, 2), \"%\")"
   ]
  },
  {
   "cell_type": "code",
   "execution_count": 22,
   "id": "952862f9",
   "metadata": {},
   "outputs": [
    {
     "name": "stdout",
     "output_type": "stream",
     "text": [
      "1873085.5\n"
     ]
    }
   ],
   "source": [
    "print((pb_odds / 3)/52)"
   ]
  },
  {
   "cell_type": "code",
   "execution_count": null,
   "id": "58bbc806",
   "metadata": {},
   "outputs": [],
   "source": []
  }
 ],
 "metadata": {
  "kernelspec": {
   "display_name": "Python 3 (ipykernel)",
   "language": "python",
   "name": "python3"
  },
  "language_info": {
   "codemirror_mode": {
    "name": "ipython",
    "version": 3
   },
   "file_extension": ".py",
   "mimetype": "text/x-python",
   "name": "python",
   "nbconvert_exporter": "python",
   "pygments_lexer": "ipython3",
   "version": "3.9.18"
  }
 },
 "nbformat": 4,
 "nbformat_minor": 5
}
