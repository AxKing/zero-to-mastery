{
 "cells": [
  {
   "cell_type": "code",
   "execution_count": 2,
   "id": "9bb4cc48",
   "metadata": {},
   "outputs": [],
   "source": [
    "import datetime"
   ]
  },
  {
   "cell_type": "code",
   "execution_count": 2,
   "id": "05850159",
   "metadata": {},
   "outputs": [],
   "source": [
    "NaN = None"
   ]
  },
  {
   "cell_type": "code",
   "execution_count": 3,
   "id": "2b73e746",
   "metadata": {},
   "outputs": [
    {
     "data": {
      "text/plain": [
       "6"
      ]
     },
     "execution_count": 3,
     "metadata": {},
     "output_type": "execute_result"
    }
   ],
   "source": [
    "# numbers\n",
    "# int or float\n",
    "print(2+4)"
   ]
  },
  {
   "cell_type": "code",
   "execution_count": 9,
   "id": "2c785e7b",
   "metadata": {},
   "outputs": [
    {
     "name": "stdout",
     "output_type": "stream",
     "text": [
      "4.5\n",
      "4\n"
     ]
    }
   ],
   "source": [
    "print(9/2)\n",
    "print( 9 // 2)"
   ]
  },
  {
   "cell_type": "code",
   "execution_count": 15,
   "id": "d1839690",
   "metadata": {},
   "outputs": [
    {
     "name": "stdout",
     "output_type": "stream",
     "text": [
      "3.1 =  3   3.6 =  4\n"
     ]
    }
   ],
   "source": [
    "print(\"3.1 = \", round(3.1), \"  3.6 = \", round(3.6))"
   ]
  },
  {
   "cell_type": "code",
   "execution_count": 13,
   "id": "4357dac4",
   "metadata": {},
   "outputs": [
    {
     "data": {
      "text/plain": [
       "10"
      ]
     },
     "execution_count": 13,
     "metadata": {},
     "output_type": "execute_result"
    }
   ],
   "source": [
    "abs(-10)"
   ]
  },
  {
   "cell_type": "code",
   "execution_count": 16,
   "id": "2fa1c198",
   "metadata": {},
   "outputs": [
    {
     "name": "stdout",
     "output_type": "stream",
     "text": [
      "does this break things?i guess not\n",
      "i guess not\n"
     ]
    }
   ],
   "source": [
    "lets_see = input(\"does this break things?\")\n",
    "print(letssee)"
   ]
  },
  {
   "cell_type": "code",
   "execution_count": 9,
   "id": "9d42823a",
   "metadata": {},
   "outputs": [
    {
     "name": "stdout",
     "output_type": "stream",
     "text": [
      "What year were you born?2015\n"
     ]
    }
   ],
   "source": [
    "birth_year = input(\"What year were you born?\")"
   ]
  },
  {
   "cell_type": "code",
   "execution_count": 11,
   "id": "56b098e8",
   "metadata": {},
   "outputs": [
    {
     "name": "stdout",
     "output_type": "stream",
     "text": [
      "2023\n",
      "Your age is 8.\n",
      "Your age is: 8!\n"
     ]
    }
   ],
   "source": [
    "today = datetime.date.today()\n",
    "\n",
    "year = today.year\n",
    "\n",
    "print(year)\n",
    "age = year - int(birth_year)\n",
    "print(f'Your age is: {age}.')"
   ]
  },
  {
   "cell_type": "code",
   "execution_count": 12,
   "id": "badd5122",
   "metadata": {},
   "outputs": [
    {
     "name": "stdout",
     "output_type": "stream",
     "text": [
      "Tony your password ************ is 12 letters long.\n"
     ]
    }
   ],
   "source": [
    "user_name = 'Tony'\n",
    "password = 'asernjgut6%4'\n",
    "len_pass = len(password)\n",
    "stars = '*' * len_pass\n",
    "print(f'{user_name} your password {stars} is {len_pass} letters long.')"
   ]
  },
  {
   "cell_type": "code",
   "execution_count": 65,
   "id": "ec19595c",
   "metadata": {},
   "outputs": [
    {
     "name": "stdout",
     "output_type": "stream",
     "text": [
      "percentage complete: 29.43%\n"
     ]
    }
   ],
   "source": [
    "video_number = 113\n",
    "print(\"percentage complete: \" + str(round(video_number/384*100, 2)) + '%')"
   ]
  },
  {
   "cell_type": "code",
   "execution_count": 1,
   "id": "238649c8",
   "metadata": {},
   "outputs": [
    {
     "name": "stdout",
     "output_type": "stream",
     "text": [
      "1\n",
      "2\n",
      "3\n",
      "[4, 5, 6, 7, 8, 9]\n",
      "10\n"
     ]
    }
   ],
   "source": [
    "# list unpacking\n",
    "a,b,c, *other, d = [1,2,3,4,5,6,7,8,9,10]\n",
    "print(a)\n",
    "print(b)\n",
    "print(c)\n",
    "print(other)\n",
    "print(d)"
   ]
  },
  {
   "cell_type": "code",
   "execution_count": 2,
   "id": "f59ae083",
   "metadata": {},
   "outputs": [
    {
     "data": {
      "text/plain": [
       "22.857142857142858"
      ]
     },
     "execution_count": 2,
     "metadata": {},
     "output_type": "execute_result"
    }
   ],
   "source": [
    "40/1.75"
   ]
  },
  {
   "cell_type": "code",
   "execution_count": 3,
   "id": "066014ce",
   "metadata": {},
   "outputs": [
    {
     "name": "stdout",
     "output_type": "stream",
     "text": [
      "[1, 2, 3, 4, 5]\n"
     ]
    }
   ],
   "source": [
    "my_list = [1,2,3,4,5,5]\n",
    "my_list = set(my_list)\n",
    "my_list = list(my_list)\n",
    "print(my_list)"
   ]
  },
  {
   "cell_type": "code",
   "execution_count": 9,
   "id": "afed8f4a",
   "metadata": {},
   "outputs": [
    {
     "name": "stdout",
     "output_type": "stream",
     "text": [
      "message allowed\n"
     ]
    }
   ],
   "source": [
    "# Ternary Operator\n",
    "# condition_if_true   if   condition else condition_if_else\n",
    "\n",
    "is_friend = True\n",
    "can_message = \"message allowed\" if is_friend else \"not allowed to message\"\n",
    "\n",
    "print(can_message)"
   ]
  },
  {
   "cell_type": "code",
   "execution_count": 14,
   "id": "746cd8da",
   "metadata": {},
   "outputs": [
    {
     "name": "stdout",
     "output_type": "stream",
     "text": [
      "you are a master magician\n"
     ]
    }
   ],
   "source": [
    "is_magician = True\n",
    "is_expert = True\n",
    "\n",
    "# check if magician AND expert: \"you are a master magician\"\n",
    "if is_magician and is_expert:\n",
    "    print(\"you are a master magician\")\n",
    "# check if magician but not expert: \"At least you're getting there\"\n",
    "elif is_magician and not is_expert:\n",
    "    print(\"At least you're getting there\")\n",
    "else:\n",
    "    print(\"you need magic powers\")\n",
    "\n",
    "\n",
    "# if you're not a magician: \"You need magic powers\""
   ]
  },
  {
   "cell_type": "code",
   "execution_count": 24,
   "id": "b35c27f4",
   "metadata": {},
   "outputs": [
    {
     "name": "stdout",
     "output_type": "stream",
     "text": [
      "105 105.0\n"
     ]
    }
   ],
   "source": [
    "# tricky counter\n",
    "# iterate over it and sum the list\n",
    "my_list = [1,2,3,4,5,6,7,8,9,10,11,12,13,14]\n",
    "n = max(my_list)\n",
    "form = (n*(n+1))/2\n",
    "\n",
    "total = 0\n",
    "for num in my_list:\n",
    "    total += num\n",
    "print(total, form)"
   ]
  },
  {
   "cell_type": "code",
   "execution_count": 26,
   "id": "c76e0c32",
   "metadata": {},
   "outputs": [
    {
     "name": "stdout",
     "output_type": "stream",
     "text": [
      "range(0, 10, 2)\n"
     ]
    }
   ],
   "source": [
    "print(range(0, 10, 2))"
   ]
  },
  {
   "cell_type": "code",
   "execution_count": 31,
   "id": "efd99bcc",
   "metadata": {},
   "outputs": [
    {
     "name": "stdout",
     "output_type": "stream",
     "text": [
      "The index of 50 is: 50\n"
     ]
    }
   ],
   "source": [
    "for i, char in enumerate(list(range(100))):\n",
    "    if char == 50:\n",
    "        print(f'The index of 50 is: {i}')"
   ]
  },
  {
   "cell_type": "code",
   "execution_count": 49,
   "id": "6d3227cd",
   "metadata": {},
   "outputs": [
    {
     "name": "stdout",
     "output_type": "stream",
     "text": [
      "   ^   \n",
      "  ^^^  \n",
      " ^^^^^ \n",
      "^^^^^^^\n",
      "   ^   \n",
      "   ^   \n"
     ]
    }
   ],
   "source": [
    "# Exercise!\n",
    "picture = [\n",
    "[0, 0, 0, 1, 0, 0, 0],\n",
    "[0, 0, 1, 1, 1, 0, 0],\n",
    "[0, 1, 1, 1, 1, 1, 0],\n",
    "[1, 1, 1, 1, 1, 1, 1],\n",
    "[0, 0, 0, 1, 0, 0, 0],\n",
    "[0, 0, 0, 1, 0, 0, 0]\n",
    "]\n",
    "\n",
    "filled = '^'\n",
    "empty = ' '\n",
    "for row in picture:\n",
    "    display_row = \"\"\n",
    "    for value in row:\n",
    "        if value:\n",
    "            display_row += filled\n",
    "        else:\n",
    "            display_row += empty\n",
    "    print(display_row)"
   ]
  },
  {
   "cell_type": "code",
   "execution_count": 39,
   "id": "7820cb72",
   "metadata": {},
   "outputs": [
    {
     "name": "stdout",
     "output_type": "stream",
     "text": [
      "   *   \n",
      "  ***  \n",
      " ***** \n",
      "*******\n",
      "   *   \n",
      "   *   \n"
     ]
    }
   ],
   "source": [
    "# Exercise!\n",
    "picture = [\n",
    "[0, 0, 0, 1, 0, 0, 0],\n",
    "[0, 0, 1, 1, 1, 0, 0],\n",
    "[0, 1, 1, 1, 1, 1, 0],\n",
    "[1, 1, 1, 1, 1, 1, 1],\n",
    "[0, 0, 0, 1, 0, 0, 0],\n",
    "[0, 0, 0, 1, 0, 0, 0]\n",
    "]\n",
    "\n",
    "for row in picture:\n",
    "    for pixel in row:\n",
    "        if pixel ==1:\n",
    "            print('*', end='')\n",
    "        else:\n",
    "            print(' ', end='')\n",
    "    print('')"
   ]
  },
  {
   "cell_type": "code",
   "execution_count": 56,
   "id": "4b28b2ee",
   "metadata": {},
   "outputs": [
    {
     "name": "stdout",
     "output_type": "stream",
     "text": [
      "{'n', 'b'}\n"
     ]
    }
   ],
   "source": [
    "# Find duplicates in a list\n",
    "some_list = ['a', 'b', 'c', 'b', 'd', 'm', 'n','n']\n",
    "duplicates = set([])\n",
    "for letter in some_list:\n",
    "    if some_list.count(letter) > 1:\n",
    "        duplicates.add(letter)\n",
    "duplicates = set(duplicates)\n",
    "print(duplicates)"
   ]
  },
  {
   "cell_type": "code",
   "execution_count": 61,
   "id": "e423bfb9",
   "metadata": {},
   "outputs": [
    {
     "name": "stdout",
     "output_type": "stream",
     "text": [
      "['n', 'b']\n"
     ]
    }
   ],
   "source": [
    "some_list = ['a', 'b', 'c', 'b', 'd', 'm', 'n','n']\n",
    "duplicates = []\n",
    "while some_list:\n",
    "    check = some_list.pop()\n",
    "    if check in some_list:\n",
    "        duplicates.append(check)\n",
    "print(duplicates)"
   ]
  },
  {
   "cell_type": "code",
   "execution_count": 64,
   "id": "d6093635",
   "metadata": {},
   "outputs": [
    {
     "name": "stdout",
     "output_type": "stream",
     "text": [
      "['b', 'n']\n"
     ]
    }
   ],
   "source": [
    "some_list = ['a', 'b', 'c', 'b', 'd', 'm', 'n','n']\n",
    "duplicates = []\n",
    "for value in some_list:\n",
    "    if some_list.count(value) > 1:\n",
    "        if value not in duplicates:\n",
    "            duplicates.append(value)\n",
    "print(duplicates)"
   ]
  },
  {
   "cell_type": "code",
   "execution_count": 1,
   "id": "d4690e3b",
   "metadata": {},
   "outputs": [
    {
     "name": "stdout",
     "output_type": "stream",
     "text": [
      "Powering On. Enjoy the ride!\n"
     ]
    }
   ],
   "source": [
    "def checkDriverAge(age=0):\n",
    "    if int(age) < 18:\n",
    "        print(\"Sorry, you are too young to drive this car. Powering off\")\n",
    "    elif int(age) > 18:\n",
    "        print(\"Powering On. Enjoy the ride!\");\n",
    "    elif int(age) == 18:\n",
    "        print(\"Congratulations on your first year of driving. Enjoy the ride!\")\n",
    "\n",
    "#1. Wrap the above code in a function called checkDriverAge(). Whenever you call this function, you will get prompted for age. \n",
    "# Notice the benefit in having checkDriverAge() instead of copying and pasting the function everytime?\n",
    "\n",
    "#2 Instead of using the input(). Now, make the checkDriverAge() function accept an argument of age, so that if you enter:\n",
    "#checkDriverAge(92);\n",
    "#it returns \"Powering On. Enjoy the ride!\"\n",
    "#also make it so that the default age is set to 0 if no argument is given.\n",
    "checkDriverAge(92)"
   ]
  },
  {
   "cell_type": "code",
   "execution_count": 9,
   "id": "4b548647",
   "metadata": {},
   "outputs": [
    {
     "name": "stdout",
     "output_type": "stream",
     "text": [
      "10\n"
     ]
    }
   ],
   "source": [
    "def highest_even(li):\n",
    "    li.sort()\n",
    "    def is_even(num):\n",
    "        return num % 2 == 0\n",
    "    while li:\n",
    "        max_num = li.pop()\n",
    "        if is_even(max_num):\n",
    "            return max_num\n",
    "            \n",
    "        \n",
    "\n",
    "print(highest_even([7,10,2,3,4,8,11]))"
   ]
  },
  {
   "cell_type": "code",
   "execution_count": 8,
   "id": "22810578",
   "metadata": {},
   "outputs": [
    {
     "name": "stdout",
     "output_type": "stream",
     "text": [
      "10\n"
     ]
    }
   ],
   "source": [
    "def highest_even(li):\n",
    "    evens = []\n",
    "    for item in li:\n",
    "        if item % 2 == 0:\n",
    "            evens.append(item)\n",
    "    return max(evens)\n",
    "\n",
    "print(highest_even([10,2,3,4,8,11]))"
   ]
  },
  {
   "cell_type": "code",
   "execution_count": null,
   "id": "2cc6b722",
   "metadata": {},
   "outputs": [],
   "source": []
  }
 ],
 "metadata": {
  "kernelspec": {
   "display_name": "Python 3 (ipykernel)",
   "language": "python",
   "name": "python3"
  },
  "language_info": {
   "codemirror_mode": {
    "name": "ipython",
    "version": 3
   },
   "file_extension": ".py",
   "mimetype": "text/x-python",
   "name": "python",
   "nbconvert_exporter": "python",
   "pygments_lexer": "ipython3",
   "version": "3.10.13"
  }
 },
 "nbformat": 4,
 "nbformat_minor": 5
}
